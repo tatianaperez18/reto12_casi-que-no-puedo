{
 "cells": [
  {
   "cell_type": "markdown",
   "metadata": {},
   "source": [
    "### consultar los metodos de strins:\n",
    "\n",
    "* endswith()\n",
    "\n",
    "El método endswith() devuelve True si la cadena termina con la secuencia especificada. Por ejemplo, la siguiente expresión devolvería True:\n",
    "\n",
    "```pseudocode\n",
    "\"Hola mundo\".endswith(\"mundo\")\n",
    "```\n",
    "\n",
    "* startswith()\n",
    "\n",
    "El método startswith() devuelve True si la cadena comienza con la secuencia especificada. Por ejemplo, la siguiente expresión devolvería True:\n",
    "\n",
    "```pseudocode\n",
    "\"Hola mundo\".startswith(\"Hola\")\n",
    "```\n",
    "\n",
    "* isalpha()\n",
    "\n",
    "El método isalpha() devuelve True si la cadena solo contiene caracteres alfabéticos. Por ejemplo, la siguiente expresión devolvería True:\n",
    "\n",
    "```pseudocode\n",
    "\"Hola\".isalpha()\n",
    "```\n",
    "\n",
    "* isalnum()\n",
    "\n",
    "El método isalnum() devuelve True si la cadena solo contiene caracteres alfanuméricos. Por ejemplo, la siguiente expresión devolvería True:\n",
    "\n",
    "```pseudocode\n",
    "\"Hola123\".isalnum()\n",
    "```\n",
    "\n",
    "* isdigit()\n",
    "\n",
    "El método isdigit() devuelve True si la cadena solo contiene números. Por ejemplo, la siguiente expresión devolvería True:\n",
    "\n",
    "```pseudocode\n",
    "\"12345\".isdigit()\n",
    "```\n",
    "\n",
    "* isspace()\n",
    "\n",
    "El método isspace() devuelve True si la cadena solo contiene espacios. Por ejemplo, la siguiente expresión devolvería True:\n",
    "\n",
    "```pseudocode\n",
    "\" \".isspace()\n",
    "```\n",
    "\n",
    "* istitle()\n",
    "El método istitle() devuelve True si la cadena está en formato de título. Por ejemplo, la siguiente expresión devolvería True:\n",
    "\n",
    "```pseudocode\n",
    "\"Hola Mundo\".istitle()\n",
    "```\n",
    "\n",
    "* islower()\n",
    "\n",
    "El método islower() devuelve True si la cadena está en minúsculas. Por ejemplo, la siguiente expresión devolvería True:\n",
    "\n",
    "```pseudocode\n",
    "\"hola\".islower()\n",
    "```\n",
    "\n",
    "* isupper()\n",
    "\n",
    "El método isupper() devuelve True si la cadena está en mayúsculas. Por ejemplo, la siguiente expresión devolvería True:\n",
    "\n",
    "```pseudocode\n",
    "\"HOLA\".isupper()\n",
    "```"
   ]
  },
  {
   "cell_type": "code",
   "execution_count": 1,
   "metadata": {},
   "outputs": [
    {
     "data": {
      "text/plain": [
       "True"
      ]
     },
     "execution_count": 1,
     "metadata": {},
     "output_type": "execute_result"
    }
   ],
   "source": [
    "\"Hola mundo\".endswith(\"mundo\")"
   ]
  },
  {
   "cell_type": "code",
   "execution_count": 3,
   "metadata": {},
   "outputs": [
    {
     "data": {
      "text/plain": [
       "True"
      ]
     },
     "execution_count": 3,
     "metadata": {},
     "output_type": "execute_result"
    }
   ],
   "source": [
    "\"Hola mundo\".startswith(\"Hola\")"
   ]
  },
  {
   "cell_type": "code",
   "execution_count": 4,
   "metadata": {},
   "outputs": [
    {
     "data": {
      "text/plain": [
       "True"
      ]
     },
     "execution_count": 4,
     "metadata": {},
     "output_type": "execute_result"
    }
   ],
   "source": [
    "\"Hola\".isalpha()"
   ]
  },
  {
   "cell_type": "code",
   "execution_count": 5,
   "metadata": {},
   "outputs": [
    {
     "data": {
      "text/plain": [
       "True"
      ]
     },
     "execution_count": 5,
     "metadata": {},
     "output_type": "execute_result"
    }
   ],
   "source": [
    "\"Hola123\".isalnum()"
   ]
  },
  {
   "cell_type": "code",
   "execution_count": 6,
   "metadata": {},
   "outputs": [
    {
     "data": {
      "text/plain": [
       "True"
      ]
     },
     "execution_count": 6,
     "metadata": {},
     "output_type": "execute_result"
    }
   ],
   "source": [
    "\"12345\".isdigit()"
   ]
  },
  {
   "cell_type": "code",
   "execution_count": 7,
   "metadata": {},
   "outputs": [
    {
     "data": {
      "text/plain": [
       "True"
      ]
     },
     "execution_count": 7,
     "metadata": {},
     "output_type": "execute_result"
    }
   ],
   "source": [
    "\" \".isspace()"
   ]
  },
  {
   "cell_type": "code",
   "execution_count": 8,
   "metadata": {},
   "outputs": [
    {
     "data": {
      "text/plain": [
       "True"
      ]
     },
     "execution_count": 8,
     "metadata": {},
     "output_type": "execute_result"
    }
   ],
   "source": [
    "\"Hola Mundo\".istitle()"
   ]
  },
  {
   "cell_type": "code",
   "execution_count": 9,
   "metadata": {},
   "outputs": [
    {
     "data": {
      "text/plain": [
       "True"
      ]
     },
     "execution_count": 9,
     "metadata": {},
     "output_type": "execute_result"
    }
   ],
   "source": [
    "\"hola\".islower()"
   ]
  },
  {
   "cell_type": "code",
   "execution_count": 10,
   "metadata": {},
   "outputs": [
    {
     "data": {
      "text/plain": [
       "True"
      ]
     },
     "execution_count": 10,
     "metadata": {},
     "output_type": "execute_result"
    }
   ],
   "source": [
    "\"HOLA\".isupper()"
   ]
  },
  {
   "cell_type": "markdown",
   "metadata": {},
   "source": [
    "### procesar el archivo y extraer:\n",
    "\n",
    "* cantidad de vocales\n",
    "* cantidad de consonantes\n",
    "* lista de las 50 palabras que mas se repiten"
   ]
  },
  {
   "cell_type": "code",
   "execution_count": 15,
   "metadata": {},
   "outputs": [
    {
     "name": "stdout",
     "output_type": "stream",
     "text": [
      "Cantidad de vocales: 237\n",
      "Cantidad de consonantes: 475\n",
      "50 palabras más repetidas:\n",
      "a 7\n",
      "que 5\n",
      "de 5\n",
      "Me 4\n",
      "y 4\n",
      "me 3\n",
      "cuesta 3\n",
      "por 3\n",
      "en 3\n",
      "lo 2\n",
      "no 2\n",
      "llena 2\n",
      "Pero 2\n",
      "tus 2\n",
      "siento 2\n",
      "mi. 2\n",
      "poder 2\n",
      "ti. 2\n",
      "luna 2\n",
      "dÃ­a 2\n",
      "Brindarte 2\n",
      "SENTIMIENTO 1\n",
      "No 1\n",
      "sÃ© 1\n",
      "expresar 1\n",
      "siento. 1\n",
      "Tal 1\n",
      "vez 1\n",
      "se 1\n",
      "nada 1\n",
      "amor, 1\n",
      "amar. 1\n",
      "Nunca 1\n",
      "he 1\n",
      "atrevido 1\n",
      "hacerlo, 1\n",
      "expresarme 1\n",
      "empezar 1\n",
      "temblar. 1\n",
      "Tengo 1\n",
      "muchas 1\n",
      "cosas 1\n",
      "decir, 1\n",
      "puedo. 1\n",
      "Vivo 1\n",
      "miedo, 1\n",
      "rechazo 1\n",
      "el 1\n",
      "pasado. 1\n",
      "pensar 1\n"
     ]
    }
   ],
   "source": [
    "# importe la biblioteca para contar las palabras\n",
    "import collections\n",
    "\n",
    "# abri el archivo, importe un poema hecho por mi:)\n",
    "archivo = open(\"archivo.txt\", \"r\")\n",
    "\n",
    "# lee el archivo\n",
    "texto = archivo.read()\n",
    "\n",
    "# hice un contador para las vocales\n",
    "vocales = 0\n",
    "for caracter in texto:\n",
    "    if caracter in \"aeiouáéíóú\":\n",
    "        vocales += 1\n",
    "\n",
    "# hice un contador para las consonantes\n",
    "consonantes = 0\n",
    "for caracter in texto:\n",
    "    if caracter not in \"aeiouáéíóú\":\n",
    "        consonantes += 1\n",
    "\n",
    "# Cree un contador de palabras\n",
    "contador_palabras = collections.Counter(texto.split())\n",
    "\n",
    "# Obtener las 50 palabras más repetidas\n",
    "palabras_mas_repetidas = contador_palabras.most_common(50)\n",
    "\n",
    "# Imprimi los resultados\n",
    "print(\"Cantidad de vocales:\", vocales)\n",
    "print(\"Cantidad de consonantes:\", consonantes)\n",
    "print(\"50 palabras más repetidas:\")\n",
    "for palabra, frecuencia in palabras_mas_repetidas:\n",
    "    print(palabra, frecuencia)\n",
    "\n",
    "# y cerre el archivo\n",
    "archivo.close()"
   ]
  }
 ],
 "metadata": {
  "kernelspec": {
   "display_name": "Python 3",
   "language": "python",
   "name": "python3"
  },
  "language_info": {
   "codemirror_mode": {
    "name": "ipython",
    "version": 3
   },
   "file_extension": ".py",
   "mimetype": "text/x-python",
   "name": "python",
   "nbconvert_exporter": "python",
   "pygments_lexer": "ipython3",
   "version": "3.12.0"
  }
 },
 "nbformat": 4,
 "nbformat_minor": 2
}
